{
 "cells": [
  {
   "cell_type": "markdown",
   "metadata": {},
   "source": [
    "## This notebook provides a simple comparison of computation time of the python version and the new Cython/C++ version."
   ]
  },
  {
   "cell_type": "markdown",
   "metadata": {},
   "source": [
    "### Importing libraries"
   ]
  },
  {
   "cell_type": "code",
   "execution_count": 5,
   "metadata": {},
   "outputs": [],
   "source": [
    "import time\n",
    "import numpy as np\n",
    "import matplotlib.pyplot as plt\n",
    "import fif as FIF\n",
    "import old_fif as old_FIF"
   ]
  },
  {
   "cell_type": "markdown",
   "metadata": {},
   "source": [
    "### Simulated functions"
   ]
  },
  {
   "cell_type": "code",
   "execution_count": 12,
   "metadata": {},
   "outputs": [],
   "source": [
    "np.random.seed(42)\n",
    "m =100 ## m measures\n",
    "n =1000 ## n curves\n",
    "tps = np.linspace(0,1,m)\n",
    "v = np.linspace(1,1.4,n)\n",
    "X = np.zeros((n,m))\n",
    "for i in range(n):\n",
    "    X[i] = 30 * ((1-tps) ** v[i]) * tps ** v[i]\n",
    "\n",
    "\n",
    "Z1 = np.zeros((m))\n",
    "for j in range(m):\n",
    "    if (tps[j]<0.2 or tps[j]>0.8):\n",
    "        Z1[j] = 30 * ((1-tps[j]) ** 1.2) * tps[j] ** 1.2\n",
    "    else:\n",
    "        Z1[j] = 30 * ((1-tps[j]) ** 1.2) * tps[j] ** 1.2 + np.random.normal(0,0.3,1)\n",
    "Z1[0] = 0\n",
    "Z1[m-1] = 0\n",
    "\n",
    "\n",
    "Z2 = 30 * ((1-tps) ** 1.6) * tps ** 1.6\n",
    "\n",
    "\n",
    "Z3 = np.zeros((m))\n",
    "for j in range(m):\n",
    "    Z3[j] = 30 * ((1-tps[j]) ** 1.2) * tps[j] ** 1.2 + np.sin(2*np.pi*tps[j])\n",
    "\n",
    "Z4 = np.zeros((m))\n",
    "for j in range(m):\n",
    "    Z4[j] = 30 * ((1-tps[j]) ** 1.2) * tps[j] ** 1.2\n",
    "\n",
    "for j in range(70,71):\n",
    "    Z4[j] += 2\n",
    "\n",
    "Z5 = np.zeros((m))\n",
    "for j in range(m):\n",
    "    Z5[j] = 30 * ((1-tps[j]) ** 1.2) * tps[j] ** 1.2 + 0.5*np.sin(10*np.pi*tps[j])\n",
    "\n",
    "X = np.concatenate((X,Z1.reshape(1,-1),Z2.reshape(1,-1),\n",
    "                     Z3.reshape(1,-1), Z4.reshape(1,-1), Z5.reshape(1,-1)), axis = 0)"
   ]
  },
  {
   "cell_type": "markdown",
   "metadata": {},
   "source": [
    "## Cython/C++ version of FIF"
   ]
  },
  {
   "cell_type": "code",
   "execution_count": 13,
   "metadata": {},
   "outputs": [
    {
     "name": "stdout",
     "output_type": "stream",
     "text": [
      "CPU times: user 1.11 s, sys: 6.1 ms, total: 1.11 s\n",
      "Wall time: 1.11 s\n"
     ]
    }
   ],
   "source": [
    "%%time\n",
    "time = np.linspace(0,1,m)\n",
    "F = FIF.FiForest(X, time, ntrees=100, sample_size=64, alpha=0.5, dic_number=1, seed=0)\n",
    "S_new_F = F.compute_paths(X_in=X)"
   ]
  },
  {
   "cell_type": "markdown",
   "metadata": {},
   "source": [
    "## Old python version of FIF"
   ]
  },
  {
   "cell_type": "code",
   "execution_count": 16,
   "metadata": {},
   "outputs": [
    {
     "name": "stdout",
     "output_type": "stream",
     "text": [
      "CPU times: user 47.9 s, sys: 536 ms, total: 48.4 s\n",
      "Wall time: 48 s\n"
     ]
    }
   ],
   "source": [
    "%%time \n",
    "np.random.seed(0)\n",
    "old_F = old_FIF.FIForest(X,ntrees=100,subsample_size=64,time=time, D='gaussian_wavelets', innerproduct='auto', alpha=0.5)\n",
    "S_old_F = old_F.compute_paths(X)"
   ]
  }
 ],
 "metadata": {
  "kernelspec": {
   "display_name": "Python 3",
   "language": "python",
   "name": "python3"
  },
  "language_info": {
   "codemirror_mode": {
    "name": "ipython",
    "version": 3
   },
   "file_extension": ".py",
   "mimetype": "text/x-python",
   "name": "python",
   "nbconvert_exporter": "python",
   "pygments_lexer": "ipython3",
   "version": "3.7.4"
  }
 },
 "nbformat": 4,
 "nbformat_minor": 2
}
